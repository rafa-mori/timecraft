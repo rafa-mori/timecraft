{
 "cells": [
  {
   "cell_type": "code",
   "execution_count": null,
   "id": "af55f3c6",
   "metadata": {},
   "outputs": [],
   "source": [
    "from concurrent.futures import ProcessPoolExecutor\n",
    "\n",
    "from timecraft_ai import DatabaseConnector\n",
    "from timecraft_ai import TimeCraftModel"
   ]
  },
  {
   "cell_type": "markdown",
   "id": "755cbbff",
   "metadata": {},
   "source": [
    "# TimeCraft - Forecasting with Oracle and PostgreSQL\n",
    "\n",
    "This notebook demonstrates how to use TimeCraft to forecast product stock using data from Oracle and PostgreSQL databases. All code, comments, and outputs are standardized in English."
   ]
  },
  {
   "cell_type": "code",
   "execution_count": null,
   "id": "4476666e",
   "metadata": {},
   "outputs": [],
   "source": [
    "def process_product(product_id):\n",
    "    # Set up the database connector (PostgreSQL example)\n",
    "    db_connector = DatabaseConnector(\n",
    "        db_type=\"postgres\",\n",
    "        username=\"kubex_adm\",\n",
    "        password=\"abcdefg\",\n",
    "        dsn=\"192.168.100.15:5432/kubex_db\"\n",
    "    )\n",
    "    \n",
    "    # Read the SQL query template\n",
    "    with open(\"data/CLI_X_PROD_CLI_SALE.sql.j2\", \"r\") as file:\n",
    "        query_template = file.read()\n",
    "    \n",
    "    # Render the template with the product ID\n",
    "    query = query_template.format({\"product_id\": product_id})\n",
    "\n",
    "    ts_model = TimeCraftModel(\n",
    "        db_connector=db_connector,\n",
    "        query=query.replace(\"{ product_id }\", str(product_id)),\n",
    "        date_column=\"DTNEG\",\n",
    "        value_columns=[\"SALDO_HISTORICO\"],\n",
    "        is_csv=False,\n",
    "        periods=30\n",
    "    )\n",
    "\n",
    "    try:\n",
    "        ts_model.run()\n",
    "        # forecast = ts_model.get_forecast()\n",
    "    except Exception as e:\n",
    "        print(f\"Error processing product {product_id}: {e}\")\n",
    "        return None\n",
    "    \n",
    "    print(f\"Forecast for product {product_id} completed.\")\n",
    "    # print(forecast)\n",
    "\n",
    "    # Save forecast results\n",
    "    output_file = f\"output/products_stock/forecast_stock_{product_id}.csv\"\n",
    "    ts_model.save_forecast(output_file)\n",
    "\n",
    "    # Save forecast plots\n",
    "    ts_model.save_plots(f\"output/forecast_stock_{product_id}.png\")"
   ]
  },
  {
   "cell_type": "code",
   "execution_count": null,
   "id": "d1ef3d9d",
   "metadata": {},
   "outputs": [],
   "source": [
    "def get_product_ids() -> list:\n",
    "    query_products = \"\"\"\n",
    "    SELECT \n",
    "        P.CODPROD\n",
    "    FROM \n",
    "        TGFPRO P\n",
    "    WHERE \n",
    "        P.USOPROD = 'R'\n",
    "        AND P.ATIVO = 'S'\n",
    "        AND P.CODPROD IN(1,2,3,4,5,6,7,8,9,10)\n",
    "    \"\"\"\n",
    "\n",
    "    # Example: Oracle connection\n",
    "    db_connector = DatabaseConnector(\n",
    "        db_type=\"oracle\",\n",
    "        username=\"sankhya\",\n",
    "        password=\"abcdefg\",\n",
    "        dsn=\"127.0.0.1:1521/orcl\"\n",
    "    )\n",
    "    db_connector.connect()\n",
    "\n",
    "    try:\n",
    "        products_df = db_connector.execute_query(query_products)\n",
    "    except Exception as e:\n",
    "        print(f\"Error querying products: {e}\")\n",
    "        return []\n",
    "\n",
    "    db_connector.close()\n",
    "\n",
    "    # List of product IDs\n",
    "    product_ids = products_df[\"CODPROD\"].tolist()\n",
    "    return product_ids"
   ]
  },
  {
   "cell_type": "code",
   "execution_count": null,
   "id": "45b20377",
   "metadata": {},
   "outputs": [],
   "source": [
    "product_ids = get_product_ids()\n",
    "\n",
    "with ProcessPoolExecutor(max_workers=4) as executor:\n",
    "    executor.map(process_product, product_ids)\n",
    "\n",
    "print(\"Processing completed.\")"
   ]
  }
 ],
 "metadata": {
  "kernelspec": {
   "display_name": ".venv (3.11.2)",
   "language": "python",
   "name": "python3"
  },
  "language_info": {
   "codemirror_mode": {
    "name": "ipython",
    "version": 3
   },
   "file_extension": ".py",
   "mimetype": "text/x-python",
   "name": "python",
   "nbconvert_exporter": "python",
   "pygments_lexer": "ipython3",
   "version": "3.11.2"
  }
 },
 "nbformat": 4,
 "nbformat_minor": 5
}
