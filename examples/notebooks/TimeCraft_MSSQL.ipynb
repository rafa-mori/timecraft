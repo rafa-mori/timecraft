{
 "cells": [
  {
   "cell_type": "markdown",
   "id": "78a63de1",
   "metadata": {},
   "source": [
    "# TimeCraft - Forecasting with Microsoft SQL Server\n",
    "\n",
    "This notebook demonstrates how to use TimeCraft to forecast product stock using data from a Microsoft SQL Server database. All code, comments, and outputs are standardized in English."
   ]
  },
  {
   "cell_type": "code",
   "execution_count": null,
   "id": "d73d5128",
   "metadata": {},
   "outputs": [],
   "source": [
    "from concurrent.futures import ProcessPoolExecutor\n",
    "from timecraft_ai import DatabaseConnector, TimeCraftModel"
   ]
  },
  {
   "cell_type": "markdown",
   "id": "0045179c",
   "metadata": {},
   "source": [
    "**Function to process a single product**"
   ]
  },
  {
   "cell_type": "code",
   "execution_count": null,
   "id": "1ed9ac5e",
   "metadata": {},
   "outputs": [],
   "source": [
    "def process_product(product_id):\n",
    "    # Set up the database connector\n",
    "    db_connector = DatabaseConnector(\n",
    "        db_type=\"mssql\",\n",
    "        username=\"sankhya\",\n",
    "        password=\"abcdef\",\n",
    "        dsn=\"127.0.0.1:1433/sankhya_prod\"\n",
    "    )\n",
    "    \n",
    "    # Read the SQL query template\n",
    "    with open(\"data/EST_X_PROD_X_DATE-MSSQL.sql.j2\", \"r\") as file:\n",
    "        query_template = file.read()\n",
    "    \n",
    "    # Render the template with the product ID\n",
    "    query = query_template.format({\"product_id\": product_id})\n",
    "\n",
    "    ts_model = TimeCraftModel(\n",
    "        db_connector=db_connector,\n",
    "        query=query.replace(\"{ product_id }\", str(product_id)),\n",
    "        date_column=\"DTNEG\",\n",
    "        value_columns=[\"SALDO_HISTORICO\"],\n",
    "        is_csv=False,\n",
    "        periods=30\n",
    "    )\n",
    "\n",
    "    try:\n",
    "        ts_model.run()\n",
    "        # forecast = ts_model.get_forecast()\n",
    "    except Exception as e:\n",
    "        print(f\"Error processing product {product_id}: {e}\")\n",
    "        return None\n",
    "    \n",
    "    print(f\"Forecast for product {product_id} completed.\")\n",
    "    # print(forecast)\n",
    "\n",
    "    # Save forecast results\n",
    "    output_file = f\"output/products_stock/forecast_stock_{product_id}.csv\"\n",
    "    ts_model.save_forecast(output_file)\n",
    "\n",
    "    # Save forecast plots\n",
    "    ts_model.save_plots(f\"output/forecast_stock_{product_id}.png\")"
   ]
  },
  {
   "cell_type": "markdown",
   "id": "9be7e2d7",
   "metadata": {},
   "source": [
    "**Function to get product IDs from the database**"
   ]
  },
  {
   "cell_type": "code",
   "execution_count": null,
   "id": "1b01b5db",
   "metadata": {},
   "outputs": [],
   "source": [
    "def get_product_ids() -> list:\n",
    "    query_products = \"\"\"\n",
    "    SELECT \n",
    "        P.CODPROD\n",
    "    FROM \n",
    "        TGFPRO P\n",
    "    WHERE \n",
    "        P.ATIVO = 'S'\n",
    "        AND P.CODPROD IN(7943, 12614, 5919, 12412, 127977)\n",
    "    \"\"\"\n",
    "\n",
    "    db_connector = DatabaseConnector(\n",
    "        db_type=\"mssql\",\n",
    "        username=\"sankhya\",\n",
    "        password=\"abcdef\",\n",
    "        dsn=\"127.0.0.1:1433/sankhya_prod\"\n",
    "    )\n",
    "    db_connector.connect()\n",
    "\n",
    "    try:\n",
    "        products_df = db_connector.execute_query(query_products)\n",
    "    except Exception as e:\n",
    "        print(f\"Error querying products: {e}\")\n",
    "        return []\n",
    "\n",
    "    db_connector.close()\n",
    "\n",
    "    # List of product IDs\n",
    "    product_ids = products_df[\"CODPROD\"].tolist()\n",
    "    return product_ids"
   ]
  },
  {
   "cell_type": "markdown",
   "id": "d8c259cb",
   "metadata": {},
   "source": [
    "**Get product IDs and process them in parallel**"
   ]
  },
  {
   "cell_type": "code",
   "execution_count": null,
   "id": "458b0dc5",
   "metadata": {},
   "outputs": [],
   "source": [
    "product_ids = get_product_ids()\n",
    "\n",
    "with ProcessPoolExecutor(max_workers=4) as executor:\n",
    "    executor.map(process_product, product_ids)\n",
    "\n",
    "print(\"Processing completed.\")"
   ]
  },
  {
   "cell_type": "markdown",
   "id": "886c66d9",
   "metadata": {},
   "source": [
    "**End of script**"
   ]
  }
 ],
 "metadata": {
  "kernelspec": {
   "display_name": ".venv (3.11.2)",
   "language": "python",
   "name": "python3"
  },
  "language_info": {
   "codemirror_mode": {
    "name": "ipython",
    "version": 3
   },
   "file_extension": ".py",
   "mimetype": "text/x-python",
   "name": "python",
   "nbconvert_exporter": "python",
   "pygments_lexer": "ipython3",
   "version": "3.11.2"
  }
 },
 "nbformat": 4,
 "nbformat_minor": 5
}
