{
 "cells": [
  {
   "cell_type": "code",
   "execution_count": null,
   "id": "7cc59bb4",
   "metadata": {},
   "outputs": [],
   "source": [
    "#!/bin/python3\n",
    "import concurrent.futures\n",
    "import requests\n",
    "\n",
    "i = 0"
   ]
  },
  {
   "cell_type": "markdown",
   "id": "ae46a193",
   "metadata": {},
   "source": [
    "**Function that simulates a heavy processing task**"
   ]
  },
  {
   "cell_type": "code",
   "execution_count": null,
   "id": "9ee695a8",
   "metadata": {},
   "outputs": [],
   "source": [
    "def load_site_list():\n",
    "    return [\n",
    "        \"https://www.google.com\",\n",
    "        \"https://www.github.com\",\n",
    "        \"https://www.openai.com\",\n",
    "        \"https://www.invalid-example.com\"\n",
    "    ]"
   ]
  },
  {
   "cell_type": "markdown",
   "id": "5679aaa7",
   "metadata": {},
   "source": [
    "**Function that checks if a website is online**"
   ]
  },
  {
   "cell_type": "code",
   "execution_count": null,
   "id": "0cc8b237",
   "metadata": {},
   "outputs": [],
   "source": [
    "def check_website(url):\n",
    "    try:\n",
    "        response = requests.get(url, timeout=10)\n",
    "        print(f\"[SUCCESS] {url} - Status: {response.status_code}\")\n",
    "    except Exception as e:\n",
    "        print(f\"[ERROR] {url} - Reason: {str(e)}\")"
   ]
  },
  {
   "cell_type": "markdown",
   "id": "95c23b39",
   "metadata": {},
   "source": [
    "**Main function**"
   ]
  },
  {
   "cell_type": "code",
   "execution_count": null,
   "id": "4effb95b",
   "metadata": {},
   "outputs": [],
   "source": [
    "def main():\n",
    "    site_list = load_site_list()\n",
    "    with concurrent.futures.ThreadPoolExecutor(max_workers=len(site_list)) as executor:\n",
    "        executor.map(check_website, site_list)"
   ]
  },
  {
   "cell_type": "markdown",
   "id": "e4e89691",
   "metadata": {},
   "source": [
    "**Program execution**"
   ]
  },
  {
   "cell_type": "code",
   "execution_count": null,
   "id": "415fedd3",
   "metadata": {},
   "outputs": [],
   "source": [
    "if __name__ == \"__main__\":\n",
    "    main()"
   ]
  }
 ],
 "metadata": {
  "kernelspec": {
   "display_name": ".venv (3.11.2)",
   "language": "python",
   "name": "python3"
  },
  "language_info": {
   "codemirror_mode": {
    "name": "ipython",
    "version": 3
   },
   "file_extension": ".py",
   "mimetype": "text/x-python",
   "name": "python",
   "nbconvert_exporter": "python",
   "pygments_lexer": "ipython3",
   "version": "3.11.2"
  },
  "widgets": {
   "application/vnd.jupyter.widget-state+json": {
    "state": {},
    "version_major": 1,
    "version_minor": 0
   }
  }
 },
 "nbformat": 4,
 "nbformat_minor": 5
}
